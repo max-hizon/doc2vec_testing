{
 "cells": [
  {
   "cell_type": "markdown",
   "id": "7ba06088-fbca-4f3c-88cd-7d6822a5d880",
   "metadata": {},
   "source": [
    "## Getting the Articles\n",
    "### Takes each article and converts them into a list of words to allow gensim to read it as a document"
   ]
  },
  {
   "cell_type": "code",
   "execution_count": 25,
   "id": "c7563463",
   "metadata": {},
   "outputs": [],
   "source": [
    "import gensim\n",
    "import os, os.path, glob\n",
    "\n",
    "forDir = 'articles/full_test'\n",
    "forNumOfArticles = len([name for name in os.listdir(forDir) if os.path.isfile(os.path.join(forDir, name))])\n",
    "\n",
    "againstDir = 'articles/against_test'\n",
    "againstNumOfArticles = len([name for name in os.listdir(againstDir) if os.path.isfile(os.path.join(againstDir, name))])\n",
    "\n",
    "# creates dataset A, B, and dataset including both A and B articles\n",
    "\n",
    "articleCount = []\n",
    "forArticleCount = []\n",
    "againstArticleCount = []\n",
    "path = 'articles/all_articles'\n",
    "for filename in glob.glob(os.path.join(path, '*.txt')):\n",
    "    with open(os.path.join(os.getcwd(), filename), 'r', encoding=\"utf8\") as f:\n",
    "        myList= f.read().split()\n",
    "        articleCount.append(myList)\n",
    "\n",
    "for filename in glob.glob(os.path.join(forDir, '*.txt')):\n",
    "    with open(os.path.join(os.getcwd(), filename), 'r', encoding=\"utf8\") as f:\n",
    "        newList= f.read().split()\n",
    "        forArticleCount.append(newList)\n",
    "        \n",
    "for filename in glob.glob(os.path.join(againstDir, '*.txt')):\n",
    "    with open(os.path.join(os.getcwd(), filename), 'r', encoding=\"utf8\") as f:\n",
    "        testList= f.read().split()\n",
    "        againstArticleCount.append(testList)"
   ]
  },
  {
   "cell_type": "markdown",
   "id": "bf562c74-148a-4caa-b74c-892fd8950671",
   "metadata": {},
   "source": [
    "## Tags each article to allow the gensim library to use the doc2vec model"
   ]
  },
  {
   "cell_type": "code",
   "execution_count": 26,
   "id": "1b138b11",
   "metadata": {},
   "outputs": [],
   "source": [
    "# tags each article for vectorization\n",
    "\n",
    "def tagged_document(list_of_list_of_words):\n",
    "    for i, list_of_words in enumerate(list_of_list_of_words):\n",
    "        yield gensim.models.doc2vec.TaggedDocument(list_of_words, [i])\n",
    "\n",
    "data_for_training = list(tagged_document(forArticleCount))\n",
    "data_against_training = list(tagged_document(againstArticleCount))"
   ]
  },
  {
   "cell_type": "markdown",
   "id": "1369a786-fcb2-4293-82e8-a412a75e5c1b",
   "metadata": {},
   "source": [
    "## Trains the datasets using the doc2vec model, assigning a vector to each article/document"
   ]
  },
  {
   "cell_type": "code",
   "execution_count": 27,
   "id": "b2dee637",
   "metadata": {},
   "outputs": [],
   "source": [
    "#  trains the datasets using the doc2vec model\n",
    "\n",
    "forModel = gensim.models.doc2vec.Doc2Vec(vector_size=40, min_count=2, epochs=40)\n",
    "forModel.build_vocab(data_for_training)\n",
    "forModel.train(data_for_training, total_examples=forModel.corpus_count, epochs=forModel.epochs)\n",
    "\n",
    "againstModel = gensim.models.doc2vec.Doc2Vec(vector_size=40, min_count=2, epochs=40)\n",
    "againstModel.build_vocab(data_against_training)\n",
    "againstModel.train(data_against_training, total_examples=againstModel.corpus_count, epochs=againstModel.epochs)"
   ]
  },
  {
   "cell_type": "markdown",
   "id": "70c65ecf-76e3-41fd-8f93-e80d8ea2efa7",
   "metadata": {},
   "source": [
    "## Measures cosine similarity using gensim's most_similar() function"
   ]
  },
  {
   "cell_type": "code",
   "execution_count": 28,
   "id": "d7e966af",
   "metadata": {},
   "outputs": [],
   "source": [
    "# using the corpus article, finds the cosine similarity of each article using most_similar() function that uses cosine similarity\n",
    "\n",
    "for_scores = forModel.dv.most_similar(0,topn=len(forArticleCount))\n",
    "against_scores = againstModel.dv.most_similar(0,topn=len(againstArticleCount))"
   ]
  },
  {
   "cell_type": "markdown",
   "id": "a6f6d466-6663-4470-948d-162db4e156d9",
   "metadata": {},
   "source": [
    "## Converts cosine similarity ratio into percentage and display scores"
   ]
  },
  {
   "cell_type": "code",
   "execution_count": 29,
   "id": "a4db1b58",
   "metadata": {},
   "outputs": [
    {
     "name": "stdout",
     "output_type": "stream",
     "text": [
      "Article #9, Score: 42.2%\n",
      "Article #8, Score: 41.5%\n",
      "Article #3, Score: 36.7%\n",
      "Article #4, Score: 31.7%\n",
      "Article #2, Score: 27.5%\n",
      "Article #6, Score: 25.9%\n",
      "Article #7, Score: 20.8%\n",
      "Article #5, Score: 19.2%\n",
      "Article #10, Score: 16.8%\n",
      "Article #1, Score: 14.0%\n"
     ]
    }
   ],
   "source": [
    "# display the scores of each article using cosine similarity\n",
    "\n",
    "for_article_number = []\n",
    "for_score_value = []\n",
    "\n",
    "for a, b in for_scores:\n",
    "    for_article_number.append(a)\n",
    "    for_score_value.append(b)\n",
    "\n",
    "# convert the cosine similarity to percentage\n",
    "for_score_final = [f'{i*100:.1f}%' for i in for_score_value]\n",
    "    \n",
    "for i in range(len(for_article_number)):\n",
    "    print(\"Article #\" + str(for_article_number[i]) + \", Score: \" + str(for_score_final[i]))"
   ]
  },
  {
   "cell_type": "code",
   "execution_count": 30,
   "id": "2c4e9d92",
   "metadata": {},
   "outputs": [
    {
     "name": "stdout",
     "output_type": "stream",
     "text": [
      "Article #9, Score: 61.4%\n",
      "Article #6, Score: 51.1%\n",
      "Article #8, Score: 45.9%\n",
      "Article #10, Score: 33.3%\n",
      "Article #7, Score: 29.9%\n",
      "Article #4, Score: 21.7%\n",
      "Article #3, Score: 10.3%\n",
      "Article #5, Score: 9.2%\n",
      "Article #1, Score: 6.1%\n",
      "Article #2, Score: 5.5%\n"
     ]
    }
   ],
   "source": [
    "against_article_number = []\n",
    "against_score_value = []\n",
    "\n",
    "for a, b in against_scores:\n",
    "    against_article_number.append(a)\n",
    "    against_score_value.append(b)\n",
    "\n",
    "against_score_final = [f'{i*100:.1f}%' for i in against_score_value]\n",
    "for i in range(len(against_article_number)):\n",
    "    print(\"Article #\" + str(against_article_number[i]) + \", Score: \" + str(against_score_final[i]))"
   ]
  },
  {
   "cell_type": "markdown",
   "id": "3e476954-20da-481f-af6c-8eaef7a8cc7f",
   "metadata": {},
   "source": [
    "# Classify which dataset an article is from depending on if it scores higher than 50%"
   ]
  },
  {
   "cell_type": "code",
   "execution_count": 31,
   "id": "58f02752",
   "metadata": {},
   "outputs": [],
   "source": [
    "# classify each article according to how high they score using dataset A\n",
    "\n",
    "for_articles = []\n",
    "against_articles = []\n",
    "\n",
    "for i in range(len(for_article_number)):\n",
    "    if for_score_value[i] >= 0.5:\n",
    "        for_articles.append(for_article_number[i])\n",
    "    else:\n",
    "        against_articles.append(for_article_number[i])\n",
    "    \n"
   ]
  },
  {
   "cell_type": "code",
   "execution_count": 16,
   "id": "c54cfb37",
   "metadata": {},
   "outputs": [],
   "source": [
    "# classify each article according to how high they score using dataset B\n",
    "\n",
    "new_for_articles = []\n",
    "new_against_articles = []\n",
    "\n",
    "for i in range(len(against_article_number)):\n",
    "    if against_score_value[i] >= 0.5:\n",
    "        new_against_articles.append(against_article_number[i])\n",
    "    else:\n",
    "        new_for_articles.append(against_article_number[i])"
   ]
  },
  {
   "cell_type": "code",
   "execution_count": 17,
   "id": "59841935",
   "metadata": {},
   "outputs": [
    {
     "name": "stdout",
     "output_type": "stream",
     "text": [
      "Articles that are for vaccines: 3\n",
      "Articles that are against vaccines: 2, 4, 8, 5, 9, 6, 1, 7, 10\n"
     ]
    }
   ],
   "source": [
    "print(\"Articles that are for vaccines: \" + ', '.join(map(str, for_articles)))\n",
    "print(\"Articles that are against vaccines: \" + ', '.join(map(str, against_articles)))"
   ]
  },
  {
   "cell_type": "code",
   "execution_count": 18,
   "id": "fd975d89",
   "metadata": {},
   "outputs": [
    {
     "name": "stdout",
     "output_type": "stream",
     "text": [
      "Articles that are for vaccines: 8, 10, 7, 4, 5, 3, 1, 2\n",
      "Articles that are against vaccines: 9, 6\n"
     ]
    }
   ],
   "source": [
    "print(\"Articles that are for vaccines: \" + ', '.join(map(str, new_for_articles)))\n",
    "print(\"Articles that are against vaccines: \" + ', '.join(map(str, new_against_articles)))"
   ]
  },
  {
   "cell_type": "markdown",
   "id": "26c9ab07-6c30-40d3-b9c6-e6c7a6e1d483",
   "metadata": {},
   "source": [
    "# Formal display of results"
   ]
  },
  {
   "cell_type": "code",
   "execution_count": 19,
   "id": "6ff35f8b",
   "metadata": {},
   "outputs": [
    {
     "data": {
      "text/html": [
       "<div>\n",
       "<style scoped>\n",
       "    .dataframe tbody tr th:only-of-type {\n",
       "        vertical-align: middle;\n",
       "    }\n",
       "\n",
       "    .dataframe tbody tr th {\n",
       "        vertical-align: top;\n",
       "    }\n",
       "\n",
       "    .dataframe thead th {\n",
       "        text-align: right;\n",
       "    }\n",
       "</style>\n",
       "<table border=\"1\" class=\"dataframe\">\n",
       "  <thead>\n",
       "    <tr style=\"text-align: right;\">\n",
       "      <th></th>\n",
       "      <th>Article</th>\n",
       "      <th>Score</th>\n",
       "    </tr>\n",
       "  </thead>\n",
       "  <tbody>\n",
       "    <tr>\n",
       "      <th>0</th>\n",
       "      <td>3</td>\n",
       "      <td>58.5%</td>\n",
       "    </tr>\n",
       "    <tr>\n",
       "      <th>1</th>\n",
       "      <td>2</td>\n",
       "      <td>39.7%</td>\n",
       "    </tr>\n",
       "    <tr>\n",
       "      <th>2</th>\n",
       "      <td>4</td>\n",
       "      <td>35.7%</td>\n",
       "    </tr>\n",
       "    <tr>\n",
       "      <th>3</th>\n",
       "      <td>8</td>\n",
       "      <td>30.9%</td>\n",
       "    </tr>\n",
       "    <tr>\n",
       "      <th>4</th>\n",
       "      <td>5</td>\n",
       "      <td>22.4%</td>\n",
       "    </tr>\n",
       "    <tr>\n",
       "      <th>5</th>\n",
       "      <td>9</td>\n",
       "      <td>22.3%</td>\n",
       "    </tr>\n",
       "    <tr>\n",
       "      <th>6</th>\n",
       "      <td>6</td>\n",
       "      <td>16.5%</td>\n",
       "    </tr>\n",
       "    <tr>\n",
       "      <th>7</th>\n",
       "      <td>1</td>\n",
       "      <td>15.1%</td>\n",
       "    </tr>\n",
       "    <tr>\n",
       "      <th>8</th>\n",
       "      <td>7</td>\n",
       "      <td>12.5%</td>\n",
       "    </tr>\n",
       "    <tr>\n",
       "      <th>9</th>\n",
       "      <td>10</td>\n",
       "      <td>8.8%</td>\n",
       "    </tr>\n",
       "  </tbody>\n",
       "</table>\n",
       "</div>"
      ],
      "text/plain": [
       "   Article  Score\n",
       "0        3  58.5%\n",
       "1        2  39.7%\n",
       "2        4  35.7%\n",
       "3        8  30.9%\n",
       "4        5  22.4%\n",
       "5        9  22.3%\n",
       "6        6  16.5%\n",
       "7        1  15.1%\n",
       "8        7  12.5%\n",
       "9       10   8.8%"
      ]
     },
     "execution_count": 19,
     "metadata": {},
     "output_type": "execute_result"
    }
   ],
   "source": [
    "import pandas as pd\n",
    "import numpy as np\n",
    "import matplotlib.pyplot as plt\n",
    "\n",
    "data = {'Article': for_article_number,\n",
    "       'Score': for_score_final}\n",
    "\n",
    "df = pd.DataFrame(data)\n",
    "\n",
    "df\n"
   ]
  },
  {
   "cell_type": "code",
   "execution_count": 20,
   "id": "ed2fdfb6",
   "metadata": {},
   "outputs": [
    {
     "data": {
      "text/html": [
       "<div>\n",
       "<style scoped>\n",
       "    .dataframe tbody tr th:only-of-type {\n",
       "        vertical-align: middle;\n",
       "    }\n",
       "\n",
       "    .dataframe tbody tr th {\n",
       "        vertical-align: top;\n",
       "    }\n",
       "\n",
       "    .dataframe thead th {\n",
       "        text-align: right;\n",
       "    }\n",
       "</style>\n",
       "<table border=\"1\" class=\"dataframe\">\n",
       "  <thead>\n",
       "    <tr style=\"text-align: right;\">\n",
       "      <th></th>\n",
       "      <th>Article</th>\n",
       "      <th>Score</th>\n",
       "    </tr>\n",
       "  </thead>\n",
       "  <tbody>\n",
       "    <tr>\n",
       "      <th>0</th>\n",
       "      <td>9</td>\n",
       "      <td>58.7%</td>\n",
       "    </tr>\n",
       "    <tr>\n",
       "      <th>1</th>\n",
       "      <td>6</td>\n",
       "      <td>53.0%</td>\n",
       "    </tr>\n",
       "    <tr>\n",
       "      <th>2</th>\n",
       "      <td>8</td>\n",
       "      <td>42.8%</td>\n",
       "    </tr>\n",
       "    <tr>\n",
       "      <th>3</th>\n",
       "      <td>10</td>\n",
       "      <td>35.3%</td>\n",
       "    </tr>\n",
       "    <tr>\n",
       "      <th>4</th>\n",
       "      <td>7</td>\n",
       "      <td>28.8%</td>\n",
       "    </tr>\n",
       "    <tr>\n",
       "      <th>5</th>\n",
       "      <td>4</td>\n",
       "      <td>20.0%</td>\n",
       "    </tr>\n",
       "    <tr>\n",
       "      <th>6</th>\n",
       "      <td>5</td>\n",
       "      <td>9.9%</td>\n",
       "    </tr>\n",
       "    <tr>\n",
       "      <th>7</th>\n",
       "      <td>3</td>\n",
       "      <td>8.4%</td>\n",
       "    </tr>\n",
       "    <tr>\n",
       "      <th>8</th>\n",
       "      <td>1</td>\n",
       "      <td>4.6%</td>\n",
       "    </tr>\n",
       "    <tr>\n",
       "      <th>9</th>\n",
       "      <td>2</td>\n",
       "      <td>4.0%</td>\n",
       "    </tr>\n",
       "  </tbody>\n",
       "</table>\n",
       "</div>"
      ],
      "text/plain": [
       "   Article  Score\n",
       "0        9  58.7%\n",
       "1        6  53.0%\n",
       "2        8  42.8%\n",
       "3       10  35.3%\n",
       "4        7  28.8%\n",
       "5        4  20.0%\n",
       "6        5   9.9%\n",
       "7        3   8.4%\n",
       "8        1   4.6%\n",
       "9        2   4.0%"
      ]
     },
     "execution_count": 20,
     "metadata": {},
     "output_type": "execute_result"
    }
   ],
   "source": [
    "new_data = {'Article': against_article_number,\n",
    "           'Score': against_score_final}\n",
    "\n",
    "new_df = pd.DataFrame(new_data)\n",
    "\n",
    "new_df"
   ]
  },
  {
   "cell_type": "code",
   "execution_count": 21,
   "id": "cd72cd14",
   "metadata": {},
   "outputs": [
    {
     "data": {
      "text/html": [
       "<div>\n",
       "<style scoped>\n",
       "    .dataframe tbody tr th:only-of-type {\n",
       "        vertical-align: middle;\n",
       "    }\n",
       "\n",
       "    .dataframe tbody tr th {\n",
       "        vertical-align: top;\n",
       "    }\n",
       "\n",
       "    .dataframe thead th {\n",
       "        text-align: right;\n",
       "    }\n",
       "</style>\n",
       "<table border=\"1\" class=\"dataframe\">\n",
       "  <thead>\n",
       "    <tr style=\"text-align: right;\">\n",
       "      <th></th>\n",
       "      <th>For_Article</th>\n",
       "    </tr>\n",
       "  </thead>\n",
       "  <tbody>\n",
       "    <tr>\n",
       "      <th>0</th>\n",
       "      <td>3</td>\n",
       "    </tr>\n",
       "  </tbody>\n",
       "</table>\n",
       "</div>"
      ],
      "text/plain": [
       "   For_Article\n",
       "0            3"
      ]
     },
     "execution_count": 21,
     "metadata": {},
     "output_type": "execute_result"
    }
   ],
   "source": [
    "for_article_data = {'For_Article': for_articles}\n",
    "\n",
    "for_article_class = pd.DataFrame(for_article_data)\n",
    "\n",
    "for_article_class"
   ]
  },
  {
   "cell_type": "code",
   "execution_count": 22,
   "id": "958d5af8",
   "metadata": {},
   "outputs": [
    {
     "data": {
      "text/html": [
       "<div>\n",
       "<style scoped>\n",
       "    .dataframe tbody tr th:only-of-type {\n",
       "        vertical-align: middle;\n",
       "    }\n",
       "\n",
       "    .dataframe tbody tr th {\n",
       "        vertical-align: top;\n",
       "    }\n",
       "\n",
       "    .dataframe thead th {\n",
       "        text-align: right;\n",
       "    }\n",
       "</style>\n",
       "<table border=\"1\" class=\"dataframe\">\n",
       "  <thead>\n",
       "    <tr style=\"text-align: right;\">\n",
       "      <th></th>\n",
       "      <th>Against_Article</th>\n",
       "    </tr>\n",
       "  </thead>\n",
       "  <tbody>\n",
       "    <tr>\n",
       "      <th>0</th>\n",
       "      <td>2</td>\n",
       "    </tr>\n",
       "    <tr>\n",
       "      <th>1</th>\n",
       "      <td>4</td>\n",
       "    </tr>\n",
       "    <tr>\n",
       "      <th>2</th>\n",
       "      <td>8</td>\n",
       "    </tr>\n",
       "    <tr>\n",
       "      <th>3</th>\n",
       "      <td>5</td>\n",
       "    </tr>\n",
       "    <tr>\n",
       "      <th>4</th>\n",
       "      <td>9</td>\n",
       "    </tr>\n",
       "    <tr>\n",
       "      <th>5</th>\n",
       "      <td>6</td>\n",
       "    </tr>\n",
       "    <tr>\n",
       "      <th>6</th>\n",
       "      <td>1</td>\n",
       "    </tr>\n",
       "    <tr>\n",
       "      <th>7</th>\n",
       "      <td>7</td>\n",
       "    </tr>\n",
       "    <tr>\n",
       "      <th>8</th>\n",
       "      <td>10</td>\n",
       "    </tr>\n",
       "  </tbody>\n",
       "</table>\n",
       "</div>"
      ],
      "text/plain": [
       "   Against_Article\n",
       "0                2\n",
       "1                4\n",
       "2                8\n",
       "3                5\n",
       "4                9\n",
       "5                6\n",
       "6                1\n",
       "7                7\n",
       "8               10"
      ]
     },
     "execution_count": 22,
     "metadata": {},
     "output_type": "execute_result"
    }
   ],
   "source": [
    "against_article_data = {'Against_Article': against_articles}\n",
    "\n",
    "against_article_class = pd.DataFrame(against_article_data)\n",
    "\n",
    "against_article_class"
   ]
  },
  {
   "cell_type": "code",
   "execution_count": 23,
   "id": "6cb5a3fd",
   "metadata": {},
   "outputs": [
    {
     "data": {
      "text/html": [
       "<div>\n",
       "<style scoped>\n",
       "    .dataframe tbody tr th:only-of-type {\n",
       "        vertical-align: middle;\n",
       "    }\n",
       "\n",
       "    .dataframe tbody tr th {\n",
       "        vertical-align: top;\n",
       "    }\n",
       "\n",
       "    .dataframe thead th {\n",
       "        text-align: right;\n",
       "    }\n",
       "</style>\n",
       "<table border=\"1\" class=\"dataframe\">\n",
       "  <thead>\n",
       "    <tr style=\"text-align: right;\">\n",
       "      <th></th>\n",
       "      <th>For_Article</th>\n",
       "    </tr>\n",
       "  </thead>\n",
       "  <tbody>\n",
       "    <tr>\n",
       "      <th>0</th>\n",
       "      <td>8</td>\n",
       "    </tr>\n",
       "    <tr>\n",
       "      <th>1</th>\n",
       "      <td>10</td>\n",
       "    </tr>\n",
       "    <tr>\n",
       "      <th>2</th>\n",
       "      <td>7</td>\n",
       "    </tr>\n",
       "    <tr>\n",
       "      <th>3</th>\n",
       "      <td>4</td>\n",
       "    </tr>\n",
       "    <tr>\n",
       "      <th>4</th>\n",
       "      <td>5</td>\n",
       "    </tr>\n",
       "    <tr>\n",
       "      <th>5</th>\n",
       "      <td>3</td>\n",
       "    </tr>\n",
       "    <tr>\n",
       "      <th>6</th>\n",
       "      <td>1</td>\n",
       "    </tr>\n",
       "    <tr>\n",
       "      <th>7</th>\n",
       "      <td>2</td>\n",
       "    </tr>\n",
       "  </tbody>\n",
       "</table>\n",
       "</div>"
      ],
      "text/plain": [
       "   For_Article\n",
       "0            8\n",
       "1           10\n",
       "2            7\n",
       "3            4\n",
       "4            5\n",
       "5            3\n",
       "6            1\n",
       "7            2"
      ]
     },
     "execution_count": 23,
     "metadata": {},
     "output_type": "execute_result"
    }
   ],
   "source": [
    "new_for_article_data = {'For_Article': new_for_articles}\n",
    "\n",
    "new_for_article_class = pd.DataFrame(new_for_article_data)\n",
    "\n",
    "new_for_article_class"
   ]
  },
  {
   "cell_type": "code",
   "execution_count": 24,
   "id": "82712153",
   "metadata": {},
   "outputs": [
    {
     "data": {
      "text/html": [
       "<div>\n",
       "<style scoped>\n",
       "    .dataframe tbody tr th:only-of-type {\n",
       "        vertical-align: middle;\n",
       "    }\n",
       "\n",
       "    .dataframe tbody tr th {\n",
       "        vertical-align: top;\n",
       "    }\n",
       "\n",
       "    .dataframe thead th {\n",
       "        text-align: right;\n",
       "    }\n",
       "</style>\n",
       "<table border=\"1\" class=\"dataframe\">\n",
       "  <thead>\n",
       "    <tr style=\"text-align: right;\">\n",
       "      <th></th>\n",
       "      <th>Against_Article</th>\n",
       "    </tr>\n",
       "  </thead>\n",
       "  <tbody>\n",
       "    <tr>\n",
       "      <th>0</th>\n",
       "      <td>9</td>\n",
       "    </tr>\n",
       "    <tr>\n",
       "      <th>1</th>\n",
       "      <td>6</td>\n",
       "    </tr>\n",
       "  </tbody>\n",
       "</table>\n",
       "</div>"
      ],
      "text/plain": [
       "   Against_Article\n",
       "0                9\n",
       "1                6"
      ]
     },
     "execution_count": 24,
     "metadata": {},
     "output_type": "execute_result"
    }
   ],
   "source": [
    "new_against_article_data = {'Against_Article': new_against_articles}\n",
    "\n",
    "new_against_article_class = pd.DataFrame(new_against_article_data)\n",
    "\n",
    "new_against_article_class"
   ]
  },
  {
   "cell_type": "code",
   "execution_count": null,
   "id": "cf6f5603-48cc-4453-8ca5-b12ae4393bcf",
   "metadata": {},
   "outputs": [],
   "source": []
  }
 ],
 "metadata": {
  "kernelspec": {
   "display_name": "Python 3 (ipykernel)",
   "language": "python",
   "name": "python3"
  },
  "language_info": {
   "codemirror_mode": {
    "name": "ipython",
    "version": 3
   },
   "file_extension": ".py",
   "mimetype": "text/x-python",
   "name": "python",
   "nbconvert_exporter": "python",
   "pygments_lexer": "ipython3",
   "version": "3.11.5"
  }
 },
 "nbformat": 4,
 "nbformat_minor": 5
}
